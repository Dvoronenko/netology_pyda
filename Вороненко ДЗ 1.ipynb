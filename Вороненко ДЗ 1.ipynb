{
 "cells": [
  {
   "cell_type": "markdown",
   "metadata": {},
   "source": [
    "**Задание 1**. Даны 2 строки: *long_phrase* и *short_phrase*. \n",
    "Напишите код, который проверяет действительно ли длинная фраза *long_phrase* длиннее короткой *short_phrase*. И выводит *True* или *False* в зависимости от результата сравнения."
   ]
  },
  {
   "cell_type": "code",
   "execution_count": 1,
   "metadata": {},
   "outputs": [],
   "source": [
    "long_phrase = 'Насколько проще было бы писать программы, если бы не заказчики'\n",
    "short_phrase = '640Кб должно хватить для любых задач. Билл Гейтс (по легенде)'"
   ]
  },
  {
   "cell_type": "code",
   "execution_count": 5,
   "metadata": {},
   "outputs": [
    {
     "data": {
      "text/plain": [
       "True"
      ]
     },
     "execution_count": 5,
     "metadata": {},
     "output_type": "execute_result"
    }
   ],
   "source": [
    "len(long_phrase) > len(short_phrase)"
   ]
  },
  {
   "cell_type": "markdown",
   "metadata": {},
   "source": [
    "**Задание 2**. Дано значение объема файла в байтах. Напишите перевод этого значения в мегабайты в формате: \"*Объем файла равен 213.68Mb*\""
   ]
  },
  {
   "cell_type": "code",
   "execution_count": 9,
   "metadata": {
    "scrolled": true
   },
   "outputs": [
    {
     "name": "stdout",
     "output_type": "stream",
     "text": [
      "Введите объем файла в байтах 500000000\n",
      "Объем файла равен 500.0 Mb\n"
     ]
    }
   ],
   "source": [
    "input_bytes = int(input('Введите объем файла в байтах '))\n",
    "result_megabytes = input_bytes / 1000000 \n",
    "print('Объем файла равен', result_megabytes,'Mb' )"
   ]
  },
  {
   "cell_type": "markdown",
   "metadata": {},
   "source": [
    "**Задание 3**. Разработать приложение для определения знака зодиака по дате рождения. Пример:\n",
    "\n",
    "Введите месяц: март\n",
    "\n",
    "Введите число: 6\n",
    "\n",
    "Вывод:\n",
    "Рыбы"
   ]
  },
  {
   "cell_type": "code",
   "execution_count": 29,
   "metadata": {},
   "outputs": [
    {
     "name": "stdout",
     "output_type": "stream",
     "text": [
      "Введите месяц Вашего рождения словом:июнь\n",
      "Введите день Вашего рождения цифрой:24\n",
      "Рак\n"
     ]
    }
   ],
   "source": [
    "input_month = str(input('Введите месяц Вашего рождения словом:'))\n",
    "input_date = int(input('Введите день Вашего рождения цифрой:'))\n",
    "if input_month == str('март') and 21 <= input_date <= 31 or input_month == str('апрель') and 1 <= input_date <= 20:\n",
    "    print('Овен')\n",
    "elif input_month == str('апрель') and  21 <= input_date <= 30 or input_month == str('май') and 1 <= input_date <= 20:\n",
    "    print('Телец')\n",
    "elif input_month == str('май') and 21 <= input_date <= 31 or input_month == str('июнь') and 1 <= input_date <= 21:\n",
    "    print('Близнецы')\n",
    "elif input_month == str('июнь') and 22<=input_date <= 30 or input_month == str('июль') and 1 <= input_date <= 22:\n",
    "    print('Рак')\n",
    "elif input_month == str('июль') and 23 <= input_date <= 31 or input_month == str('август') and 1 <= input_date <= 23:\n",
    "    print('Лев')\n",
    "elif input_month == str('август') and 24 <= input_date <= 31 or input_month == str('сентябрь') and 1 <= input_date <= 23:\n",
    "    print('Дева')\n",
    "elif input_month == str('сентябрь') and 24 <= input_date <= 30 or input_month == str('октябрь') and 1 <= input_date <= 23:\n",
    "    print('Весы')\n",
    "elif input_month == str('октябрь') and 24 <= input_date <= 31 or input_month == str('ноябрь') and 1 <= input_date <= 22:\n",
    "    print('Скорпион')\n",
    "elif input_month == str('ноябрь') and 23 <= input_date <= 30 or input_month == str('декабрь') and 1 <= input_date <= 21:\n",
    "    print('Стрелец')\n",
    "elif input_month == str('декабрь') and 22 <= input_date <= 31 or input_month == str('январь') and 1 <= input_date <= 20:\n",
    "    print('Козерог')\n",
    "elif input_month == str('январь') and 21 <= input_date <= 31 or input_month == str('февраль') and 1 <= input_date <= 20:\n",
    "    print('Водолей')\n",
    "elif input_month == str('февраль') and 21 <= input_date <= 29 or input_month == str('март') and 1 <= input_date <= 20:\n",
    "    print('Водолей')\n",
    "else:\n",
    "    print('Данные введены неверно. Введите данные в формате месяц, число')"
   ]
  },
  {
   "cell_type": "markdown",
   "metadata": {},
   "source": [
    "**Задание 4**. Нужно разработать приложение для финансового планирования.\n",
    "Приложение учитывает сколько уходит на ипотеку, \"на жизнь\" и сколько нужно отложить на пенсию.\n",
    "Пользователь вводит:\n",
    "- заработанную плату в месяц.\n",
    "- сколько процентов от ЗП уходит на ипотеку.\n",
    "- сколько процентов от ЗП уходит \"на жизнь\".\n",
    "- сколько раз приходит премия в год.\n",
    "\n",
    "Остальная часть заработанной платы откладывается на пенсию.\n",
    "\n",
    "Также пользователю приходит премия в размере зарплаты, от которой половина уходит на отпуск, а вторая половина откладывается.\n",
    "\n",
    "Программа должна учитывать сколько премий было в год.\n",
    "\n",
    "Нужно вывести сколько денег тратит пользователь на ипотеку и сколько он накопит за год.\n",
    "\n",
    "Пример:\n",
    "\n",
    "Введите заработанную плату в месяц: 100000\n",
    "\n",
    "Введите сколько процентов уходит на ипотеку: 30\n",
    "\n",
    "Введите сколько процентов уходит на жизнь: 50\n",
    "\n",
    "Введите количество премий за год: 2\n",
    "\n",
    "Вывод:\n",
    "На ипотеку было потрачено: 360000 рублей\n",
    "Было накоплено: 340000 рублей"
   ]
  },
  {
   "cell_type": "code",
   "execution_count": 30,
   "metadata": {},
   "outputs": [
    {
     "name": "stdout",
     "output_type": "stream",
     "text": [
      "Введите Вашу зарплату за месяц:10000\n",
      "Введите сколько процентов от ЗП уходит на ипотеку:20\n",
      "Введите сколько процентов от ЗП уходит \"на жизнь\":30\n",
      "Сколько раз за год приходит премия:2\n",
      "На ипотеку было потрачено: 24000.0 рублей Было накоплено: 70000.0 рублей\n"
     ]
    }
   ],
   "source": [
    "input_salary = int(input('Введите Вашу зарплату за месяц:'))\n",
    "input_mortgage = int(input('Введите сколько процентов от ЗП уходит на ипотеку:'))\n",
    "input_expenses = int(input('Введите сколько процентов от ЗП уходит \"на жизнь\":'))\n",
    "input_bonus_count = int(input('Сколько раз за год приходит премия:'))\n",
    "\n",
    "mortgage_expense = input_salary * 12 * input_mortgage / 100\n",
    "\n",
    "savings_salary = input_salary * 12 * (100 - input_mortgage - input_expenses) / 100\n",
    "savings_bonus = (input_salary * input_bonus_count) / 2\n",
    "savings_total = savings_salary + savings_bonus\n",
    "\n",
    "print('На ипотеку было потрачено:', mortgage_expense, 'рублей Было накоплено:', savings_total, 'рублей')"
   ]
  },
  {
   "cell_type": "code",
   "execution_count": null,
   "metadata": {},
   "outputs": [],
   "source": []
  }
 ],
 "metadata": {
  "kernelspec": {
   "display_name": "Python 3",
   "language": "python",
   "name": "python3"
  },
  "language_info": {
   "codemirror_mode": {
    "name": "ipython",
    "version": 3
   },
   "file_extension": ".py",
   "mimetype": "text/x-python",
   "name": "python",
   "nbconvert_exporter": "python",
   "pygments_lexer": "ipython3",
   "version": "3.7.4"
  }
 },
 "nbformat": 4,
 "nbformat_minor": 2
}
