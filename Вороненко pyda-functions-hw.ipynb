{
 "cells": [
  {
   "cell_type": "markdown",
   "metadata": {},
   "source": [
    "## Задание 1"
   ]
  },
  {
   "cell_type": "markdown",
   "metadata": {},
   "source": [
    "Дан список вида:"
   ]
  },
  {
   "cell_type": "code",
   "execution_count": null,
   "metadata": {},
   "outputs": [],
   "source": [
    "#Текущий код решает задачу, только если вложенные списки не повторяются. если какие-то повторяются, то несколько раз используется первый список из одинаковых\n",
    "\n",
    "data = [\n",
    "    [13, 25, 23, 34, 50],\n",
    "    [45, 32, 44, 47, 50],\n",
    "    [12, 33, 23, 95, 50],\n",
    "    [13, 53, 34, 35, 50],\n",
    "]\n",
    "\n",
    "def diagonal_sum (data):\n",
    "    diagonal_number = []\n",
    "    for item_list in data:\n",
    "        current_index = data.index(item_list)\n",
    "        item = item_list[int(current_index)]\n",
    "        diagonal_number.append(item)\n",
    "    answer = sum(diagonal_number)\n",
    "    print(answer)\n",
    "        \n",
    "diagonal_sum(data)        "
   ]
  },
  {
   "cell_type": "markdown",
   "metadata": {},
   "source": [
    "Напишите функцию, которая возвращает сумму элементов на диагонали. Т. е. 13+32+23+35.  \n",
    "Список может быть любой длины, но всегда является \"квадратным\" (количество элементов во вложенных списках равно их количеству)."
   ]
  },
  {
   "cell_type": "markdown",
   "metadata": {},
   "source": [
    "## Задание 2"
   ]
  },
  {
   "cell_type": "markdown",
   "metadata": {},
   "source": [
    "Напишите функцию, возвращающую сумму первых n чисел Фибоначчи (для этого вам может понадобится ознакомиться с рекурсией)."
   ]
  },
  {
   "cell_type": "code",
   "execution_count": null,
   "metadata": {
    "scrolled": true
   },
   "outputs": [],
   "source": [
    "def fibonacchi_sum ():\n",
    "    numbers_quantity = input(\"Введите количество первых n чисел (не считая 0)\")\n",
    "    n_first_numbers_list = [0, 1]\n",
    "    for concrete_number in range(2, int(numbers_quantity) + 1):\n",
    "        concrete_number = n_first_numbers_list[concrete_number - 1] + n_first_numbers_list[concrete_number - 2]\n",
    "        n_first_numbers_list.append(concrete_number)\n",
    "    return sum(n_first_numbers_list) \n",
    "\n",
    "fibonacchi_sum()"
   ]
  },
  {
   "cell_type": "markdown",
   "metadata": {},
   "source": [
    "## Задание 3\n"
   ]
  },
  {
   "cell_type": "markdown",
   "metadata": {},
   "source": [
    "Напишите функцию, преобразующую произвольный список вида ['2018-01-01', 'yandex', 'cpc', 100] (он может быть любой длины) в словарь {'2018-01-01': {'yandex': {'cpc': 100}}}"
   ]
  },
  {
   "cell_type": "code",
   "execution_count": 8,
   "metadata": {},
   "outputs": [
    {
     "data": {
      "text/plain": [
       "{'2018-01-01': {'yandex': {'cpc': {100: {14: {125: 5132}}}}}}"
      ]
     },
     "execution_count": 8,
     "metadata": {},
     "output_type": "execute_result"
    }
   ],
   "source": [
    "random_list = ['2018-01-01', 'yandex', 'cpc', 100]\n",
    "\n",
    "def crazy_hard_to_solve_task():\n",
    "    random_list.reverse() \n",
    "    d = {random_list[1]: random_list[0]}\n",
    "    for item in random_list[2: len(random_list) + 1]:\n",
    "        c = {}\n",
    "        c[item] = d \n",
    "        d = c \n",
    "    return d\n",
    "crazy_hard_to_solve_task()"
   ]
  },
  {
   "cell_type": "markdown",
   "metadata": {},
   "source": [
    "## Задание 4"
   ]
  },
  {
   "cell_type": "markdown",
   "metadata": {},
   "source": [
    "Вы работаете секретарем и вам постоянно приходят различные документы. Вы должны быть очень внимательны, чтобы не потерять ни один документ. Каталог документов хранится в следующем виде:"
   ]
  },
  {
   "cell_type": "code",
   "execution_count": null,
   "metadata": {},
   "outputs": [],
   "source": [
    "documents = [\n",
    "    {'type': 'passport', 'number': '2207 876234', 'name': 'Василий Гупкин'},\n",
    "    {'type': 'invoice', 'number': '11-2', 'name': 'Геннадий Покемонов'},\n",
    "    {'type': 'insurance', 'number': '10006', 'name': 'Аристарх Павлов'}\n",
    "]"
   ]
  },
  {
   "cell_type": "markdown",
   "metadata": {},
   "source": [
    "Перечень полок, на которых находятся документы хранится в следующем виде:"
   ]
  },
  {
   "cell_type": "code",
   "execution_count": null,
   "metadata": {},
   "outputs": [],
   "source": [
    "directories = {\n",
    "    '1': ['2207 876234', '11-2', '5455 028765'],\n",
    "    '2': ['10006', '5400 028765', '5455 002299'],\n",
    "    '3': []\n",
    "}"
   ]
  },
  {
   "cell_type": "code",
   "execution_count": null,
   "metadata": {},
   "outputs": [],
   "source": [
    "def p():\n",
    "    people = input('Введите номер документа')\n",
    "    for number in documents:\n",
    "        if number['number'] == people:\n",
    "            return number['name']\n",
    "    return('Такого документа нет')\n"
   ]
  },
  {
   "cell_type": "code",
   "execution_count": null,
   "metadata": {},
   "outputs": [],
   "source": [
    "def s():\n",
    "    document_number = input('Введите номер документа')\n",
    "    for shelf in directories.values():\n",
    "        if document_number in shelf:\n",
    "            return(list(directories.keys())[list(directories.values()).index(shelf)]) \n",
    "        \n",
    "    return('Такого документа нет') \n",
    "        "
   ]
  },
  {
   "cell_type": "code",
   "execution_count": null,
   "metadata": {
    "scrolled": true
   },
   "outputs": [],
   "source": [
    "def l():\n",
    "    for document in documents:\n",
    "        print(document['type'], document['number'], document['name'])\n",
    "                                                                     "
   ]
  },
  {
   "cell_type": "code",
   "execution_count": null,
   "metadata": {},
   "outputs": [],
   "source": [
    "def addshelf():\n",
    "    new_shelf = input('Введите номер новой полки')\n",
    "    directories[new_shelf] = []\n",
    "    return directories\n"
   ]
  },
  {
   "cell_type": "code",
   "execution_count": null,
   "metadata": {},
   "outputs": [],
   "source": [
    "#Предполагаем, что, если документ  есть в каталоге, то он есть и в перечне полок. Следовательно, если пользователь ввел несуществующий в каталоге документ, то его нет и в перечне полок\n",
    "def d():\n",
    "    delete_number = input('Введите номер документа для удаления')\n",
    "    for document in documents:\n",
    "        if delete_number in document['number']:\n",
    "            documents.remove(document)\n",
    "    for shelf in directories.values():\n",
    "        if delete_number in shelf:\n",
    "            shelf.remove(delete_number)\n",
    "            return documents, directories\n",
    "            \n",
    "    \n",
    "    return('Такого документа нет')"
   ]
  },
  {
   "cell_type": "code",
   "execution_count": null,
   "metadata": {
    "scrolled": false
   },
   "outputs": [],
   "source": [
    "#В текущем коде если одновременно указать несуществующую полку и документ, система сообщит только о несуществующей полке\n",
    "def m():\n",
    "    new_document_number = input('Введите номер документа')\n",
    "    new_shelf = input('Введите номер новой полки')\n",
    "    if new_shelf not in list(directories.keys()):\n",
    "        return('Такой полки не существует')\n",
    "    else:\n",
    "        for shelf in directories.values():\n",
    "            if new_document_number in shelf:\n",
    "                shelf.remove(new_document_number)\n",
    "                directories[str(new_shelf)].append(new_document_number)\n",
    "                return directories\n",
    "    \n",
    "        return ('Такого документа нет')\n"
   ]
  },
  {
   "cell_type": "code",
   "execution_count": null,
   "metadata": {},
   "outputs": [],
   "source": [
    "#Подразумеваем, что нам не могут предложить полку, которой нет в перечне полок\n",
    "def a():\n",
    "    new_document_number = input('Введите новый номер документа')\n",
    "    new_document_type = input('Введите тип нового документа')\n",
    "    new_document_name = input('Введите имя владельца нового документа')\n",
    "    new_document_shelf = input('Введите полку для нового документа')\n",
    "    new_document = {'type': new_document_type, 'number': str(new_document_number), 'name': new_document_name}\n",
    "    documents.append(new_document)\n",
    "    directories[str(new_document_shelf)].append(str(new_document_number))\n",
    "    return documents, directories\n"
   ]
  },
  {
   "cell_type": "code",
   "execution_count": null,
   "metadata": {
    "scrolled": true
   },
   "outputs": [],
   "source": [
    "def main():\n",
    "    user_input = input('Введите команду из списка: p, s, l, addshelf, d, m, a')\n",
    "    if user_input == 'p':\n",
    "        return p()\n",
    "    elif user_input == 's':\n",
    "        return s()\n",
    "    elif user_input == 'l':\n",
    "        return l()\n",
    "    elif user_input == 'addshelf':\n",
    "        return addshelf()\n",
    "    elif user_input == 'd':\n",
    "        return d()\n",
    "    elif user_input == 'm':\n",
    "        return m()\n",
    "    elif user_input == 'a':\n",
    "        return a()\n",
    "    return('Такой команды в списке нет')\n",
    "\n",
    "main()"
   ]
  },
  {
   "cell_type": "markdown",
   "metadata": {},
   "source": [
    "Необходимо реализовать пользовательские команды (внимание! это не название функций, которые должны быть выразительными, а команды, которые вводит пользователь, чтобы получить необходимый результат):\n",
    "  \n",
    "- p – people – команда, которая спросит номер документа и выведет имя человека, которому он принадлежит;  \n",
    "- s – shelf – команда, которая спросит номер документа и выведет номер полки, на которой он находится  \n",
    "Правильно обработайте ситуацию, когда пользователь будет вводить несуществующий документ.\n",
    "- l – list – команда, которая выведет список всех документов в формате   \n",
    "**passport \"2207 876234\" \"Василий Гупкин\"**  \n",
    "- as – add shelf – команда, которая спросит номер новой полки и добавит ее в перечень\n",
    "- d – delete – команда, которая спросит номер документа и удалит его из каталога и из перечня полок. Предусмотрите сценарий, когда пользователь вводит несуществующий документ;  \n",
    "- m – move – команда, которая спросит номер документа и целевую полку и переместит его с текущей полки на целевую. Корректно обработайте кейсы, когда пользователь пытается переместить несуществующий документ или переместить документ на несуществующую полку;  \n",
    "- a – add – команда, которая добавит новый документ в каталог и в перечень полок, спросив его номер, тип, имя владельца и номер полки, на котором он будет храниться."
   ]
  }
 ],
 "metadata": {
  "kernelspec": {
   "display_name": "Python 3",
   "language": "python",
   "name": "python3"
  },
  "language_info": {
   "codemirror_mode": {
    "name": "ipython",
    "version": 3
   },
   "file_extension": ".py",
   "mimetype": "text/x-python",
   "name": "python",
   "nbconvert_exporter": "python",
   "pygments_lexer": "ipython3",
   "version": "3.7.4"
  }
 },
 "nbformat": 4,
 "nbformat_minor": 2
}
